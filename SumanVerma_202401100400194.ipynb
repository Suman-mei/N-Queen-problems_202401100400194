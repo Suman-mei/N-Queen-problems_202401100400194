{
  "nbformat": 4,
  "nbformat_minor": 0,
  "metadata": {
    "colab": {
      "provenance": []
    },
    "kernelspec": {
      "name": "python3",
      "display_name": "Python 3"
    },
    "language_info": {
      "name": "python"
    }
  },
  "cells": [
    {
      "cell_type": "markdown",
      "source": [
        "N-Queens problem\n"
      ],
      "metadata": {
        "id": "1UoXWBzkUl5p"
      }
    },
    {
      "cell_type": "code",
      "source": [
        "def is_safe(board, row, col, N):\n",
        "    # Check this column on the upper side\n",
        "    for i in range(row):\n",
        "        if board[i][col] == 1:\n",
        "            return False\n",
        "\n",
        "    # Check the upper left diagonal\n",
        "    for i, j in zip(range(row, -1, -1), range(col, -1, -1)):\n",
        "        if board[i][j] == 1:\n",
        "            return False\n",
        "\n",
        "    # Check the upper right diagonal\n",
        "    for i, j in zip(range(row, -1, -1), range(col, N)):\n",
        "        if board[i][j] == 1:\n",
        "            return False\n",
        "\n",
        "    return True\n",
        "\n",
        "def solve_n_queens_util(board, row, N):\n",
        "    if row >= N:\n",
        "        return True\n",
        "\n",
        "    for col in range(N):\n",
        "        if is_safe(board, row, col, N):\n",
        "            board[row][col] = 1  # Place the queen\n",
        "\n",
        "            if solve_n_queens_util(board, row + 1, N):\n",
        "                return True\n",
        "\n",
        "            board[row][col] = 0  # Backtrack\n",
        "\n",
        "    return False\n",
        "\n",
        "def solve_n_queens(N):\n",
        "    board = [[0] * N for _ in range(N)]\n",
        "\n",
        "    if not solve_n_queens_util(board, 0, N):\n",
        "        print(\"Solution does not exist\")\n",
        "        return False\n",
        "\n",
        "    # Print the solution\n",
        "    for row in board:\n",
        "        print(\" \".join(str(cell) for cell in row))\n",
        "\n",
        "    return True\n",
        "\n"
      ],
      "metadata": {
        "colab": {
          "base_uri": "https://localhost:8080/"
        },
        "id": "WOi32lsFSskv",
        "outputId": "a5a40364-faff-4a40-d038-d7055a2733d4"
      },
      "execution_count": null,
      "outputs": [
        {
          "output_type": "stream",
          "name": "stdout",
          "text": [
            "1 0 0 0 0 0 0 0\n",
            "0 0 0 0 1 0 0 0\n",
            "0 0 0 0 0 0 0 1\n",
            "0 0 0 0 0 1 0 0\n",
            "0 0 1 0 0 0 0 0\n",
            "0 0 0 0 0 0 1 0\n",
            "0 1 0 0 0 0 0 0\n",
            "0 0 0 1 0 0 0 0\n"
          ]
        },
        {
          "output_type": "execute_result",
          "data": {
            "text/plain": [
              "True"
            ]
          },
          "metadata": {},
          "execution_count": 1
        }
      ]
    }
  ]
}